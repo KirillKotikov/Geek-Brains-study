{
 "cells": [
  {
   "cell_type": "markdown",
   "id": "669536ae",
   "metadata": {},
   "source": [
    "**С ФУНКЦИЕЙ ИЗ ДЗ НЕ ВЫЧИСЛЯЮТСЯ ЭСТРЕМУМЫ!** <br/>\n",
    "_f(x) = -12x^4*sin(cos(x)) - 18x^3+5x^2 + 10x - 3_\n",
    "\n",
    "На последнем семинаре увидел, что дома решали совсем другое задание и делал эту функцию: <br/>\n",
    "_f(x) = ((sin(x)/2 + cos(x)/2)^2)sin(x)_"
   ]
  },
  {
   "cell_type": "code",
   "execution_count": 1,
   "id": "cb52f209",
   "metadata": {},
   "outputs": [],
   "source": [
    "from sympy.abc import x\n",
    "from sympy import sin, cos, solve, solveset, diff, plot, is_increasing, Interval, oo, evalf, pi, maximum"
   ]
  },
  {
   "cell_type": "code",
   "execution_count": 2,
   "id": "1afbcef3",
   "metadata": {},
   "outputs": [
    {
     "data": {
      "text/latex": [
       "$\\displaystyle \\left(\\frac{\\sin{\\left(x \\right)}}{2} + \\frac{\\cos{\\left(x \\right)}}{2}\\right)^{2} \\sin{\\left(x \\right)}$"
      ],
      "text/plain": [
       "(sin(x)/2 + cos(x)/2)**2*sin(x)"
      ]
     },
     "execution_count": 2,
     "metadata": {},
     "output_type": "execute_result"
    }
   ],
   "source": [
    "y = ((sin(x)/2 + cos(x)/2)**2)*sin(x)\n",
    "z =-12*x**4*sin(cos(x)) - 18*x**3+5*x**2 + 10*x - 3\n",
    "y"
   ]
  },
  {
   "cell_type": "markdown",
   "id": "361e4a4c",
   "metadata": {},
   "source": [
    "**_1) Определить корни:_**"
   ]
  },
  {
   "cell_type": "code",
   "execution_count": 3,
   "id": "eca386e9",
   "metadata": {},
   "outputs": [
    {
     "data": {
      "text/plain": [
       "[0, -pi/4, 3*pi/4, pi]"
      ]
     },
     "execution_count": 3,
     "metadata": {},
     "output_type": "execute_result"
    }
   ],
   "source": [
    "sol = solve(y, x)\n",
    "sol"
   ]
  },
  {
   "cell_type": "code",
   "execution_count": 4,
   "id": "e47d671e",
   "metadata": {},
   "outputs": [
    {
     "data": {
      "text/latex": [
       "$\\displaystyle \\left\\{2 n \\pi\\; \\middle|\\; n \\in \\mathbb{Z}\\right\\} \\cup \\left\\{2 n \\pi + \\pi\\; \\middle|\\; n \\in \\mathbb{Z}\\right\\} \\cup \\left\\{2 n \\pi + \\frac{3 \\pi}{4}\\; \\middle|\\; n \\in \\mathbb{Z}\\right\\} \\cup \\left\\{2 n \\pi + \\frac{7 \\pi}{4}\\; \\middle|\\; n \\in \\mathbb{Z}\\right\\}$"
      ],
      "text/plain": [
       "Union(ImageSet(Lambda(_n, 2*_n*pi + 3*pi/4), Integers), ImageSet(Lambda(_n, 2*_n*pi + 7*pi/4), Integers), ImageSet(Lambda(_n, 2*_n*pi + pi), Integers), ImageSet(Lambda(_n, 2*_n*pi), Integers))"
      ]
     },
     "execution_count": 4,
     "metadata": {},
     "output_type": "execute_result"
    }
   ],
   "source": [
    "sols = solveset(y, x)\n",
    "sols"
   ]
  },
  {
   "cell_type": "markdown",
   "id": "03a798fa",
   "metadata": {},
   "source": [
    "**_2) Найти интервалы, на которых функция возрастает:_**"
   ]
  },
  {
   "cell_type": "code",
   "execution_count": 5,
   "id": "a1f1266d",
   "metadata": {},
   "outputs": [
    {
     "name": "stdout",
     "output_type": "stream",
     "text": [
      "-2.08 : -0.79\n",
      "-0.27 : 1.06\n",
      "2.36 : 2.87\n"
     ]
    }
   ],
   "source": [
    "derivate = y.diff(x)\n",
    "extremes = solve(derivate, x)\n",
    "\n",
    "if extremes[-1]!= pi:\n",
    "    extremes.append(pi)\n",
    "if extremes[0] != -pi:\n",
    "    extremes.insert(0, -pi)\n",
    "extremes.sort()\n",
    "\n",
    "for i in range(len(extremes) - 1):\n",
    "    result = derivate.subs(x, (extremes[i+1] + extremes[i])/2)\n",
    "    if result > 0:\n",
    "        print(f'{round(extremes[i].evalf(), 2)} : {round(extremes[i+1].evalf(), 2)}')"
   ]
  },
  {
   "cell_type": "markdown",
   "id": "4f215a70",
   "metadata": {},
   "source": [
    "**_3) Найти интервалы, на которых функция убывает:_**"
   ]
  },
  {
   "cell_type": "code",
   "execution_count": 6,
   "id": "e24d7cf3",
   "metadata": {},
   "outputs": [
    {
     "name": "stdout",
     "output_type": "stream",
     "text": [
      "-3.14 : -2.08\n",
      "-0.79 : -0.27\n",
      "1.06 : 2.36\n",
      "2.87 : 3.14\n"
     ]
    }
   ],
   "source": [
    "for i in range(len(extremes) - 1):\n",
    "    result = derivate.subs(x, (extremes[i+1] + extremes[i])/2)\n",
    "    if result < 0:\n",
    "        print(f'{round(extremes[i].evalf(), 2)} : {round(extremes[i+1].evalf(), 2)}')"
   ]
  },
  {
   "cell_type": "markdown",
   "id": "a16f6e06",
   "metadata": {},
   "source": [
    "**_4) Построить график:_**"
   ]
  },
  {
   "cell_type": "code",
   "execution_count": 7,
   "id": "ef5442f9",
   "metadata": {},
   "outputs": [
    {
     "data": {
      "image/png": "[encoded data removed]",
      "text/plain": [
       "<Figure size 432x288 with 1 Axes>"
      ]
     },
     "metadata": {
      "needs_background": "light"
     },
     "output_type": "display_data"
    }
   ],
   "source": [
    "graph = plot(y, (x, -pi, pi))"
   ]
  },
  {
   "cell_type": "markdown",
   "id": "fcee1f02",
   "metadata": {},
   "source": [
    "**_5) Вычислить вершину:_**"
   ]
  },
  {
   "cell_type": "code",
   "execution_count": 8,
   "id": "40accbc6",
   "metadata": {},
   "outputs": [
    {
     "data": {
      "text/latex": [
       "$\\displaystyle 0.404106232073136$"
      ],
      "text/plain": [
       "0.404106232073136"
      ]
     },
     "execution_count": 8,
     "metadata": {},
     "output_type": "execute_result"
    }
   ],
   "source": [
    "# for i in range(len(extremes)):\n",
    "#     result = \n",
    "\n",
    "y_max = maximum(y, x, Interval(-pi, pi)).evalf()\n",
    "y_max"
   ]
  },
  {
   "cell_type": "markdown",
   "id": "cbff3563",
   "metadata": {},
   "source": [
    "**_6) Определить промежутки, на котором f > 0:_**"
   ]
  },
  {
   "cell_type": "code",
   "execution_count": 9,
   "id": "87163974",
   "metadata": {},
   "outputs": [
    {
     "name": "stdout",
     "output_type": "stream",
     "text": [
      "0 : 3*pi/4\n",
      "3*pi/4 : pi\n"
     ]
    }
   ],
   "source": [
    "if sol[-1] != pi:\n",
    "    sol.append(pi)\n",
    "if sol[0] != -pi:\n",
    "    sol.insert(0, -pi)\n",
    "sol.sort()\n",
    "\n",
    "for i in range(len(sol) - 1):\n",
    "    result = y.subs(x, (sol[i+1] + sol[i])/2)\n",
    "    if result > 0:\n",
    "        print(f'{sol[i]} : {sol[i+1]}')"
   ]
  },
  {
   "cell_type": "markdown",
   "id": "16142b69",
   "metadata": {},
   "source": [
    "**_7) Определить промежутки, на котором f < 0:_**"
   ]
  },
  {
   "cell_type": "code",
   "execution_count": 10,
   "id": "d4bf14e0",
   "metadata": {},
   "outputs": [
    {
     "name": "stdout",
     "output_type": "stream",
     "text": [
      "-pi : -pi/4\n",
      "-pi/4 : 0\n"
     ]
    }
   ],
   "source": [
    "for i in range(len(sol) - 1):\n",
    "    result = y.subs(x, (sol[i+1] + sol[i])/2)\n",
    "    if result < 0:\n",
    "        print(f'{sol[i]} : {sol[i+1]}')"
   ]
  }
 ],
 "metadata": {
  "kernelspec": {
   "display_name": "Python 3 (ipykernel)",
   "language": "python",
   "name": "python3"
  },
  "language_info": {
   "codemirror_mode": {
    "name": "ipython",
    "version": 3
   },
   "file_extension": ".py",
   "mimetype": "text/x-python",
   "name": "python",
   "nbconvert_exporter": "python",
   "pygments_lexer": "ipython3",
   "version": "3.9.12"
  }
 },
 "nbformat": 4,
 "nbformat_minor": 5
}
